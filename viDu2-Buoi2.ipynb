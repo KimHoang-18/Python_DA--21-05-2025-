{
 "cells": [
  {
   "cell_type": "code",
   "execution_count": 1,
   "id": "a074b554",
   "metadata": {},
   "outputs": [
    {
     "name": "stdout",
     "output_type": "stream",
     "text": [
      "1987\n"
     ]
    }
   ],
   "source": [
    "x = 24252\n",
    "year = 1987\n",
    "print(year)"
   ]
  },
  {
   "cell_type": "code",
   "execution_count": 3,
   "id": "e188da24",
   "metadata": {},
   "outputs": [
    {
     "name": "stdout",
     "output_type": "stream",
     "text": [
      "Khong Ban\n"
     ]
    }
   ],
   "source": [
    "if x > 25000:\n",
    "    print(\"Ban\")\n",
    "elif x > 20000:\n",
    "    print(\"Khong Ban\")"
   ]
  },
  {
   "cell_type": "code",
   "execution_count": 1,
   "id": "7c5ad8de",
   "metadata": {},
   "outputs": [
    {
     "name": "stdout",
     "output_type": "stream",
     "text": [
      "56\n"
     ]
    }
   ],
   "source": [
    "x = 56\n",
    "print(x)"
   ]
  },
  {
   "cell_type": "code",
   "execution_count": 2,
   "id": "af056f0c",
   "metadata": {},
   "outputs": [
    {
     "name": "stdout",
     "output_type": "stream",
     "text": [
      "Thanh Xuân, Hà Nội, Việt Nam\n"
     ]
    }
   ],
   "source": [
    "address = 'Thanh Xuân, Hà Nội, Việt Nam'\n",
    "print(address)"
   ]
  },
  {
   "cell_type": "code",
   "execution_count": null,
   "id": "1c49be3e",
   "metadata": {},
   "outputs": [],
   "source": []
  }
 ],
 "metadata": {
  "kernelspec": {
   "display_name": "base",
   "language": "python",
   "name": "python3"
  },
  "language_info": {
   "codemirror_mode": {
    "name": "ipython",
    "version": 3
   },
   "file_extension": ".py",
   "mimetype": "text/x-python",
   "name": "python",
   "nbconvert_exporter": "python",
   "pygments_lexer": "ipython3",
   "version": "3.11.5"
  }
 },
 "nbformat": 4,
 "nbformat_minor": 5
}
